{
 "metadata": {
  "name": "",
  "signature": "sha256:3c781621264b62cd97877e285c1813fc45985e92e4f399dbd2693ccb67b3aba2"
 },
 "nbformat": 3,
 "nbformat_minor": 0,
 "worksheets": [
  {
   "cells": [
    {
     "cell_type": "markdown",
     "metadata": {},
     "source": [
      "### Analyzing the twitter firehose during the Academy Awards broadcast\n",
      "The idea is to listen to the twitter firehose during the Oscars' broadcast and see what kind of information we can extract. I collected data from the Twitter fire hose during the Academy Awards broadcast containing hashtags #Oscars or #Oscars2015 that were written in English. During roughly 2.5 hours I collected about 250k twitter messages.\n",
      "The code used for collecting the tweets can be found here: https://github.com/wvanamstel/twitter_oscars/blob/master/twitter_listener.py"
     ]
    },
    {
     "cell_type": "code",
     "collapsed": false,
     "input": [
      "import pandas as pd\n",
      "import numpy as np\n",
      "import matplotlib.pylab as plt\n",
      "from collections import Counter\n",
      "from pymongo import MongoClient\n",
      "from dateutil.parser import parse\n",
      "from textblob import TextBlob"
     ],
     "language": "python",
     "metadata": {},
     "outputs": []
    }
   ],
   "metadata": {}
  }
 ]
}