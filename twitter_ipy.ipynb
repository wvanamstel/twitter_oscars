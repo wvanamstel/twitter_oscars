{
 "metadata": {
  "name": "",
  "signature": "sha256:8b623a8affcfd9e514f39ae09414ef9d735d9089d17da2c415794fb9f9e4ff5d"
 },
 "nbformat": 3,
 "nbformat_minor": 0,
 "worksheets": [
  {
   "cells": [
    {
     "cell_type": "markdown",
     "metadata": {},
     "source": [
      "### Analyzing the twitter firehose during the Academy Awards broadcast\n",
      "The idea is to listen to the twitter firehose during the Oscars' broadcast and see what kind of information we can extract from the tweets. I collected data containing hashtags #Oscars or #Oscars2015 that were written in English. During roughly 2.5 hours I collected about 250k twitter messages, which were stored in a mongo data base for later analysis.\n",
      "The code used for collecting the tweets and the source code that is repeated in part below can be found [here](https://github.com/wvanamstel/twitter_oscars/)."
     ]
    },
    {
     "cell_type": "code",
     "collapsed": false,
     "input": [
      "import pandas as pd\n",
      "import numpy as np\n",
      "import matplotlib.pylab as plt\n",
      "import seaborn\n",
      "from collections import Counter\n",
      "from pymongo import MongoClient\n",
      "from dateutil.parser import parse\n",
      "from textblob import TextBlob\n",
      "%matplotlib inline"
     ],
     "language": "python",
     "metadata": {},
     "outputs": [],
     "prompt_number": 17
    },
    {
     "cell_type": "markdown",
     "metadata": {},
     "source": [
      "First, read the data that we collected during the Oscars from of the mongo data base:"
     ]
    },
    {
     "cell_type": "code",
     "collapsed": false,
     "input": [
      "# Connect to DB and retrieve data\n",
      "client = MongoClient()\n",
      "db = client.oscar\n",
      "collection = db.tweets\n",
      "\n",
      "# Store data in dataframe\n",
      "df = pd.DataFrame(list(collection.find()))\n",
      "\n",
      "# Parse data/time column and set index\n",
      "df.created_at = df.created_at.apply(lambda x: parse(x).strftime(\"%Y-%m-%d %H:%M:%S\"))\n",
      "df.set_index(df.created_at, drop=False, inplace=True)"
     ],
     "language": "python",
     "metadata": {},
     "outputs": [],
     "prompt_number": 3
    },
    {
     "cell_type": "markdown",
     "metadata": {},
     "source": [
      "For starters, we can analyze the frequency of tweets, plot a bar chart of the number of tweets during consecutive time intervals, in this case 10 minutes:"
     ]
    },
    {
     "cell_type": "code",
     "collapsed": false,
     "input": [
      "# Plot resampled frequency of tweets\n",
      "freq = pd.to_datetime(df.created_at)\n",
      "freq.index = freq\n",
      "resampled = freq.resample('10Min', how='count')\n",
      "resampled.plot(kind='bar', title='Frequency of tweets per 10 minutes', figsize=(8,5));"
     ],
     "language": "python",
     "metadata": {},
     "outputs": [
      {
       "metadata": {},
       "output_type": "display_data",
       "png": "[encoded data removed]",
       "text": [
        "<matplotlib.figure.Figure at 0x7f5aa1820550>"
       ]
      }
     ],
     "prompt_number": 18
    },
    {
     "cell_type": "markdown",
     "metadata": {},
     "source": [
      "That looks pretty even, with an average tweet volume of ~16k per 10 minutes. The relative low number of tweets around 3:30 was caused by the fact that data collection was briefly interrupted for a couple of minutes due to an internet connectivity issue. The last bar in the graph does not completely comprise of 10 minutes of data, as data collection was halted.\n",
      "\n",
      "\n",
      "Next, let's see what happens when we dig further into the data and figure out who are the most active users out there sending out the most tweets over the entire period of data collection:"
     ]
    },
    {
     "cell_type": "code",
     "collapsed": false,
     "input": [
      "# Find most active people tweeting\n",
      "users = df.user.apply(pd.Series)\n",
      "names = users.screen_name\n",
      "df['user_names'] = names    #add column of user names to use later\n",
      "names_cnt = Counter(names).most_common(n=10)\n",
      "print '\\n'.join(['{0}\\t{1}'.format(name, cnt) for name, cnt in names_cnt])"
     ],
     "language": "python",
     "metadata": {},
     "outputs": [
      {
       "output_type": "stream",
       "stream": "stdout",
       "text": [
        "clickphoto6000\t74\n",
        "trendingru_\t46\n",
        "trendingpl_\t45\n",
        "Conserv_Report\t38\n",
        "proboothcast\t33\n",
        "SonalMunot\t32\n",
        "trendingmex_\t32\n",
        "trendingphi_\t30\n",
        "trendingfr_\t28\n",
        "soundapp_\t26\n"
       ]
      }
     ],
     "prompt_number": 8
    },
    {
     "cell_type": "markdown",
     "metadata": {},
     "source": [
      "Clearly there are some bots active here, for example the **trendingpl_** user is a bot sending out the trending hashtags for in this case Poland. If we filter out these bots, it turns out there are 173049 distinct users, with the top 10 most active:"
     ]
    },
    {
     "cell_type": "code",
     "collapsed": false,
     "input": [
      "# Remove 'trending???' bots\n",
      "ind = names.apply(lambda x: 'trending' not in x)\n",
      "filtered = names[ind]\n",
      "filtered_cnt = Counter(filtered).most_common(n=10)\n",
      "print '\\n'.join(['{0}\\t{1}'.format(name, cnt) for name, cnt in filtered_cnt])\n",
      "print 'Total number of users: ', len(set(list(names.values)))"
     ],
     "language": "python",
     "metadata": {},
     "outputs": [
      {
       "output_type": "stream",
       "stream": "stdout",
       "text": [
        "clickphoto6000\t74\n",
        "Conserv_Report\t38\n",
        "proboothcast\t33\n",
        "SonalMunot\t32\n",
        "soundapp_\t26\n",
        "galacticasitrep\t25\n",
        "jeryljagoda\t25\n",
        "IWANT5SOS6767\t24\n",
        "momma_problem\t23\n",
        "Bywatergal\t23\n",
        "Total number of users:  "
       ]
      },
      {
       "output_type": "stream",
       "stream": "stdout",
       "text": [
        "173049\n"
       ]
      }
     ],
     "prompt_number": 10
    },
    {
     "cell_type": "markdown",
     "metadata": {},
     "source": [
      "The top twitter user turns out to be a [real person](https://twitter.com/clickphoto6000). Again, we can plot a time series of her activity per 5 minute interval:"
     ]
    },
    {
     "cell_type": "code",
     "collapsed": false,
     "input": [
      "# Look at top tweeter 'clickphoto6000' activity (an actual person)\n",
      "user = 'clickphoto6000'\n",
      "cl_ph = df[df.user_names==user]\n",
      "freq = pd.to_datetime(cl_ph.created_at)\n",
      "freq.index = freq\n",
      "cl_ph_resamp = freq.resample('5Min', how='count')\n",
      "cl_ph_resamp.plot(kind='bar', title='Frequency of tweets by most active user', figsize=(8,5));"
     ],
     "language": "python",
     "metadata": {},
     "outputs": [
      {
       "metadata": {},
       "output_type": "display_data",
       "png": "[encoded data removed]",
       "text": [
        "<matplotlib.figure.Figure at 0x7f589ee71350>"
       ]
      }
     ],
     "prompt_number": 19
    },
    {
     "cell_type": "markdown",
     "metadata": {},
     "source": [
      "There is clear spike of activity between 03:55 and 04:00. Looking at the tweets that this user produced during that time frame we can see that this coincided with John Legend's performance of 'Glory'. The increase in tweet volume around 02:40:00 has to do with the host apearing in his underwear on stage. More about that later. Here are some tweets this user sent out during the performance of John Legend:"
     ]
    },
    {
     "cell_type": "code",
     "collapsed": false,
     "input": [
      "# Investigating the peak in tweet activity reveals that John Legend was\n",
      "# performing 'Glory' at the time\n",
      "cl_ph.index = freq\n",
      "print cl_ph['2015-02-23 03:53:00':'2015-02-23 04:03:00'].text"
     ],
     "language": "python",
     "metadata": {},
     "outputs": [
      {
       "output_type": "stream",
       "stream": "stdout",
       "text": [
        "created_at\n",
        "2015-02-23 03:53:54    lets have a party next haha #FullSailOscars #f...\n",
        "2015-02-23 03:54:20       Mike wills #FullSailOscars #fsebmb #Oscars2015\n",
        "2015-02-23 03:56:34    x men how to train your dragon unbelievable ! ...\n",
        "2015-02-23 03:57:04    best picture should be me #FullSailOscars #fse...\n",
        "2015-02-23 03:58:17    Dr. King moment of silence........#FullSailOsc...\n",
        "2015-02-23 03:58:22      Glory!!!!! #FullSailOscars  #fsebmb #Oscars2015\n",
        "2015-02-23 03:58:32    Common and John Legend #FullSailOscars  #fsebm...\n",
        "2015-02-23 03:58:57        Yes boys #FullSailOscars  #fsebmb #Oscars2015\n",
        "2015-02-23 03:59:07    Love the choir #FullSailOscars  #fsebmb #Oscar...\n",
        "2015-02-23 03:59:26    After party fullsail.  #FullSailOscars #fsebmb...\n",
        "2015-02-23 04:00:14    Perfect tribute..etc black history month / glo...\n",
        "2015-02-23 04:02:04    Standing O for glory #FullSailOscars  #fsebmb ...\n",
        "Name: text, dtype: object\n"
       ]
      }
     ],
     "prompt_number": 13
    },
    {
     "cell_type": "markdown",
     "metadata": {},
     "source": [
      "Let's see if the top 10 of most used hash tags reflects the popularity of this performance. To do this, determine the top 10 most frequently used hash tags of the data set, excluding anything containing #oscar. The results show the hash tags 'Glory' and 'Selma' solidly in the top 10. It looks like the most prolific user was not alone in the large number of tweets she sent out about this topic."
     ]
    },
    {
     "cell_type": "code",
     "collapsed": false,
     "input": [
      "# Find most used hashtags\n",
      "raw_text = df.text.values\n",
      "hashtags = []\n",
      "for tweet in raw_text:\n",
      "    for word in tweet.split():\n",
      "        if word.startswith('#') and 'oscar' not in word.lower():\n",
      "            hashtags.append(word.encode('utf-8'))\n",
      "hash_cnt = Counter(hashtags).most_common(n=10)\n",
      "print '\\n'.join(['{0}\\t{1}'.format(tag, cnt) for tag, cnt in hash_cnt])"
     ],
     "language": "python",
     "metadata": {},
     "outputs": [
      {
       "output_type": "stream",
       "stream": "stdout",
       "text": [
        "#BigHero6\t1986\n",
        "#Glory\t1966\n",
        "#AcademyAwards\t1675\n",
        "#Selma\t1562\n",
        "#EverythingIsAwesome\t1484\n",
        "#PatriciaArquette\t993\n",
        "#\u2026\t860\n",
        "#AmericanSniper\t717\n",
        "#meangirls\t648\n",
        "#ArchDigestGreenRoom\t611\n"
       ]
      }
     ],
     "prompt_number": 14
    },
    {
     "cell_type": "markdown",
     "metadata": {},
     "source": [
      "Lastly, let's do a sentiment analysis of the tweets that were talking about the host of the evening, Neil Patrick Harris. Usually, people have strong opinions about the host of the Oscars night. This year's host made the usual plethora of jokes, but also appeared in his underwear on the stage. Most likely the first time this has ever happened during the Oscars.\n",
      "We can use the python package 'TextBlob' for a quick and easy sentiment analysis, without having to turn to the heavier NLTK package. Tweets are assigned a score of [-1, 1] (negative to positive) according to their perceived sentiment. \n",
      "\n",
      "I filtered the entire tweet corpus for hash tags '#nph' and '#neilpatrickharris', which yielded 886 tweets. The sentiment of these were then scored using TextBlob. We can then summarize these sentiments by simply summing them up per 5 minute windows, and plotting the resulting time series. "
     ]
    },
    {
     "cell_type": "code",
     "collapsed": false,
     "input": [
      "# Find tweets referring to the evening's host\n",
      "ind = df.text.apply(lambda x: '#nph' in x.lower() or '#neilpatrickharris' in x.lower())    \n",
      "raw_text = df[ind].text\n",
      "# Do sentiment analysis of these tweets\n",
      "sentiments = []\n",
      "for tweet in raw_text.values:\n",
      "    blob = TextBlob(tweet)\n",
      "    sentiments.append(blob.sentiment)\n",
      "\n",
      "# Summarize and plot summed up sentiment scores\n",
      "indx = pd.to_datetime(df[ind].index)\n",
      "sents = [x[0] for x in sentiments]\n",
      "sent_ts = pd.Series(sents, index=indx)\n",
      "sent_ts.resample('5Min', how='sum').plot(title='Total sentiment');"
     ],
     "language": "python",
     "metadata": {},
     "outputs": [
      {
       "metadata": {},
       "output_type": "display_data",
       "png": "[encoded data removed]",
       "text": [
        "<matplotlib.figure.Figure at 0x7f5a6831edd0>"
       ]
      }
     ],
     "prompt_number": 20
    },
    {
     "cell_type": "markdown",
     "metadata": {},
     "source": [
      "The gap in the graph is caused by the technical issue during data collection mentioned earlier. Also the frequency of hash tag mentions of the host spiked:"
     ]
    },
    {
     "cell_type": "code",
     "collapsed": false,
     "input": [
      "sent_ts.resample('5Min', how='count').plot(kind='bar', title='Frequency of hash tags mentioning host');"
     ],
     "language": "python",
     "metadata": {},
     "outputs": [
      {
       "metadata": {},
       "output_type": "display_data",
       "png": "[encoded data removed]",
       "text": [
        "<matplotlib.figure.Figure at 0x7f589d1f6150>"
       ]
      }
     ],
     "prompt_number": 21
    },
    {
     "cell_type": "markdown",
     "metadata": {},
     "source": [
      "There is a huge spike right around 02:45. Now let's see if this coincide with the 'underwear-incident'. Turns out it did:"
     ]
    },
    {
     "cell_type": "code",
     "collapsed": false,
     "input": [
      "print raw_text['2015-02-23 02:44:01':'2015-02-23 02:44:20']"
     ],
     "language": "python",
     "metadata": {},
     "outputs": [
      {
       "output_type": "stream",
       "stream": "stdout",
       "text": [
        "created_at\n",
        "2015-02-23 02:44:01                           Oh whoa #NPH   #Oscars2015\n",
        "2015-02-23 02:44:02    Acting is a noble profession. #Oscars2015 #Nei...\n",
        "2015-02-23 02:44:02    Should have led with this bit...#NeilPatrickHa...\n",
        "2015-02-23 02:44:03        Thats what im talking about #NPH  #Oscars2015\n",
        "2015-02-23 02:44:03    #NeilPatrickHarris #Oscars2015 \\nNice #TightyW...\n",
        "2015-02-23 02:44:04    I can't stop laughing! #NPH is HILARIOUS! #Oscars\n",
        "2015-02-23 02:44:07    RT @UTHornsRawk: #NeilPatrickHarrislooks like ...\n",
        "2015-02-23 02:44:07    So, new high in awkward Oscar moments? #NPH #O...\n",
        "2015-02-23 02:44:09    That's one way to get us back on your side #NP...\n",
        "2015-02-23 02:44:13       #Oscars just tuned in. #NPH in tighty whiteys?\n",
        "2015-02-23 02:44:13    #bestcostume #Oscars2015 And The Oscar goes to...\n",
        "2015-02-23 02:44:13    Why.just why #NeilPatrickHarris #Oscars #oneof...\n",
        "2015-02-23 02:44:15              And #NPH has gone full #Birdman #Oscars\n",
        "2015-02-23 02:44:16    RT @outmagazine: \"Takes a lot of balls to wear...\n",
        "2015-02-23 02:44:17    I bet Octavia Spencer just took her eyes off t...\n",
        "2015-02-23 02:44:18       Doogie Howser, you done good. #NPH #Oscars2015\n",
        "2015-02-23 02:44:20            #NeilPatrickHarris is packing #Oscars2015\n",
        "Name: text, dtype: object\n"
       ]
      }
     ],
     "prompt_number": 22
    },
    {
     "cell_type": "markdown",
     "metadata": {},
     "source": [
      "That is it! There are many more things that can be investigated, if time permitted. For example geographical distribution of popularity of topics, or investigate if there are unexpected topics that people were talking about. What comes to mind is the '50 Shades of Grey' film that was not nominated for anything, but people could have still been talking about it."
     ]
    },
    {
     "cell_type": "code",
     "collapsed": false,
     "input": [],
     "language": "python",
     "metadata": {},
     "outputs": []
    }
   ],
   "metadata": {}
  }
 ]
}